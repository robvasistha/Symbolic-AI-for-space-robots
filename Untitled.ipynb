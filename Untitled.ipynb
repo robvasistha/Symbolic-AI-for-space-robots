{
 "cells": [
  {
   "cell_type": "code",
   "execution_count": 6,
   "id": "84de3673",
   "metadata": {},
   "outputs": [
    {
     "name": "stdout",
     "output_type": "stream",
     "text": [
      "Score:-9.72625462290889\n"
     ]
    }
   ],
   "source": [
    "import os\n",
    "from space_robot.envs import *\n",
    "from stable_baselines3 import PPO\n",
    "from stable_baselines3.common.vec_env import DummyVecEnv\n",
    "from stable_baselines3.common.evaluation import evaluate_policy\n",
    "\n",
    "env = SpaceRobotEnv() # can use env = SpaceRobotEnv(dof=5) to change dof - default is 4\n",
    "obs = env.reset()\n",
    "#env.initialise_render() # needed if rendering is wanted --still broken need to fix somehow\n",
    "done = False\n",
    "score = 0\n",
    "while not done:\n",
    "        action = env.action_space.sample()\n",
    "        \n",
    "        new_obs, reward, done, captured = env.step(action)\n",
    "        score += reward\n",
    "print('Score:{}'.format(score))\n",
    "        #env.render() --still broken need to fix somehow.\n"
   ]
  },
  {
   "cell_type": "code",
   "execution_count": 5,
   "id": "bcd1d0f5",
   "metadata": {
    "scrolled": true
   },
   "outputs": [
    {
     "name": "stdout",
     "output_type": "stream",
     "text": [
      "Requirement already satisfied: stable-baselines3[extra] in /user/HS227/rv00163/miniconda3/lib/python3.9/site-packages (1.4.0)\n",
      "Requirement already satisfied: numpy in /user/HS227/rv00163/miniconda3/lib/python3.9/site-packages (from stable-baselines3[extra]) (1.22.2)\n",
      "Requirement already satisfied: gym<0.20,>=0.17 in /user/HS227/rv00163/miniconda3/lib/python3.9/site-packages (from stable-baselines3[extra]) (0.19.0)\n",
      "Requirement already satisfied: torch>=1.8.1 in /user/HS227/rv00163/miniconda3/lib/python3.9/site-packages (from stable-baselines3[extra]) (1.10.2)\n",
      "Requirement already satisfied: cloudpickle in /user/HS227/rv00163/miniconda3/lib/python3.9/site-packages (from stable-baselines3[extra]) (1.6.0)\n",
      "Requirement already satisfied: matplotlib in /user/HS227/rv00163/miniconda3/lib/python3.9/site-packages (from stable-baselines3[extra]) (3.5.1)\n",
      "Requirement already satisfied: pandas in /user/HS227/rv00163/miniconda3/lib/python3.9/site-packages (from stable-baselines3[extra]) (1.4.1)\n",
      "Requirement already satisfied: atari-py==0.2.6 in /user/HS227/rv00163/miniconda3/lib/python3.9/site-packages (from stable-baselines3[extra]) (0.2.6)\n",
      "Requirement already satisfied: tensorboard>=2.2.0 in /user/HS227/rv00163/miniconda3/lib/python3.9/site-packages (from stable-baselines3[extra]) (2.8.0)\n",
      "Requirement already satisfied: opencv-python in /user/HS227/rv00163/miniconda3/lib/python3.9/site-packages (from stable-baselines3[extra]) (4.5.5.62)\n",
      "Requirement already satisfied: pillow in /user/HS227/rv00163/miniconda3/lib/python3.9/site-packages (from stable-baselines3[extra]) (9.0.1)\n",
      "Requirement already satisfied: psutil in /user/HS227/rv00163/miniconda3/lib/python3.9/site-packages (from stable-baselines3[extra]) (5.9.0)\n",
      "Requirement already satisfied: six in /user/HS227/rv00163/miniconda3/lib/python3.9/site-packages (from atari-py==0.2.6->stable-baselines3[extra]) (1.16.0)\n",
      "Requirement already satisfied: tensorboard-data-server<0.7.0,>=0.6.0 in /user/HS227/rv00163/miniconda3/lib/python3.9/site-packages (from tensorboard>=2.2.0->stable-baselines3[extra]) (0.6.1)\n",
      "Requirement already satisfied: setuptools>=41.0.0 in /user/HS227/rv00163/miniconda3/lib/python3.9/site-packages (from tensorboard>=2.2.0->stable-baselines3[extra]) (61.2.0)\n",
      "Requirement already satisfied: grpcio>=1.24.3 in /user/HS227/rv00163/miniconda3/lib/python3.9/site-packages (from tensorboard>=2.2.0->stable-baselines3[extra]) (1.44.0)\n",
      "Requirement already satisfied: protobuf>=3.6.0 in /user/HS227/rv00163/miniconda3/lib/python3.9/site-packages (from tensorboard>=2.2.0->stable-baselines3[extra]) (3.19.4)\n",
      "Requirement already satisfied: tensorboard-plugin-wit>=1.6.0 in /user/HS227/rv00163/miniconda3/lib/python3.9/site-packages (from tensorboard>=2.2.0->stable-baselines3[extra]) (1.8.1)\n",
      "Requirement already satisfied: werkzeug>=0.11.15 in /user/HS227/rv00163/miniconda3/lib/python3.9/site-packages (from tensorboard>=2.2.0->stable-baselines3[extra]) (2.0.3)\n",
      "Requirement already satisfied: google-auth-oauthlib<0.5,>=0.4.1 in /user/HS227/rv00163/miniconda3/lib/python3.9/site-packages (from tensorboard>=2.2.0->stable-baselines3[extra]) (0.4.6)\n",
      "Requirement already satisfied: absl-py>=0.4 in /user/HS227/rv00163/miniconda3/lib/python3.9/site-packages (from tensorboard>=2.2.0->stable-baselines3[extra]) (1.0.0)\n",
      "Requirement already satisfied: markdown>=2.6.8 in /user/HS227/rv00163/miniconda3/lib/python3.9/site-packages (from tensorboard>=2.2.0->stable-baselines3[extra]) (3.3.6)\n",
      "Requirement already satisfied: google-auth<3,>=1.6.3 in /user/HS227/rv00163/miniconda3/lib/python3.9/site-packages (from tensorboard>=2.2.0->stable-baselines3[extra]) (2.6.0)\n",
      "Requirement already satisfied: requests<3,>=2.21.0 in /user/HS227/rv00163/miniconda3/lib/python3.9/site-packages (from tensorboard>=2.2.0->stable-baselines3[extra]) (2.27.1)\n",
      "Requirement already satisfied: wheel>=0.26 in /user/HS227/rv00163/miniconda3/lib/python3.9/site-packages (from tensorboard>=2.2.0->stable-baselines3[extra]) (0.37.1)\n",
      "Requirement already satisfied: typing-extensions in /user/HS227/rv00163/miniconda3/lib/python3.9/site-packages (from torch>=1.8.1->stable-baselines3[extra]) (4.1.1)\n",
      "Requirement already satisfied: pyparsing>=2.2.1 in /user/HS227/rv00163/miniconda3/lib/python3.9/site-packages (from matplotlib->stable-baselines3[extra]) (3.0.7)\n",
      "Requirement already satisfied: cycler>=0.10 in /user/HS227/rv00163/miniconda3/lib/python3.9/site-packages (from matplotlib->stable-baselines3[extra]) (0.11.0)\n",
      "Requirement already satisfied: fonttools>=4.22.0 in /user/HS227/rv00163/miniconda3/lib/python3.9/site-packages (from matplotlib->stable-baselines3[extra]) (4.29.1)\n",
      "Requirement already satisfied: packaging>=20.0 in /user/HS227/rv00163/miniconda3/lib/python3.9/site-packages (from matplotlib->stable-baselines3[extra]) (21.3)\n",
      "Requirement already satisfied: python-dateutil>=2.7 in /user/HS227/rv00163/miniconda3/lib/python3.9/site-packages (from matplotlib->stable-baselines3[extra]) (2.8.2)\n",
      "Requirement already satisfied: kiwisolver>=1.0.1 in /user/HS227/rv00163/miniconda3/lib/python3.9/site-packages (from matplotlib->stable-baselines3[extra]) (1.3.2)\n",
      "Requirement already satisfied: pytz>=2020.1 in /user/HS227/rv00163/miniconda3/lib/python3.9/site-packages (from pandas->stable-baselines3[extra]) (2021.3)\n",
      "Requirement already satisfied: rsa<5,>=3.1.4 in /user/HS227/rv00163/miniconda3/lib/python3.9/site-packages (from google-auth<3,>=1.6.3->tensorboard>=2.2.0->stable-baselines3[extra]) (4.8)\n",
      "Requirement already satisfied: cachetools<6.0,>=2.0.0 in /user/HS227/rv00163/miniconda3/lib/python3.9/site-packages (from google-auth<3,>=1.6.3->tensorboard>=2.2.0->stable-baselines3[extra]) (5.0.0)\n",
      "Requirement already satisfied: pyasn1-modules>=0.2.1 in /user/HS227/rv00163/miniconda3/lib/python3.9/site-packages (from google-auth<3,>=1.6.3->tensorboard>=2.2.0->stable-baselines3[extra]) (0.2.8)\n",
      "Requirement already satisfied: requests-oauthlib>=0.7.0 in /user/HS227/rv00163/miniconda3/lib/python3.9/site-packages (from google-auth-oauthlib<0.5,>=0.4.1->tensorboard>=2.2.0->stable-baselines3[extra]) (1.3.1)\n",
      "Requirement already satisfied: importlib-metadata>=4.4 in /user/HS227/rv00163/miniconda3/lib/python3.9/site-packages (from markdown>=2.6.8->tensorboard>=2.2.0->stable-baselines3[extra]) (4.11.1)\n",
      "Requirement already satisfied: certifi>=2017.4.17 in /user/HS227/rv00163/miniconda3/lib/python3.9/site-packages (from requests<3,>=2.21.0->tensorboard>=2.2.0->stable-baselines3[extra]) (2022.5.18.1)\n",
      "Requirement already satisfied: urllib3<1.27,>=1.21.1 in /user/HS227/rv00163/miniconda3/lib/python3.9/site-packages (from requests<3,>=2.21.0->tensorboard>=2.2.0->stable-baselines3[extra]) (1.26.9)\n",
      "Requirement already satisfied: charset-normalizer~=2.0.0 in /user/HS227/rv00163/miniconda3/lib/python3.9/site-packages (from requests<3,>=2.21.0->tensorboard>=2.2.0->stable-baselines3[extra]) (2.0.4)\n",
      "Requirement already satisfied: idna<4,>=2.5 in /user/HS227/rv00163/miniconda3/lib/python3.9/site-packages (from requests<3,>=2.21.0->tensorboard>=2.2.0->stable-baselines3[extra]) (3.3)\n",
      "Requirement already satisfied: zipp>=0.5 in /user/HS227/rv00163/miniconda3/lib/python3.9/site-packages (from importlib-metadata>=4.4->markdown>=2.6.8->tensorboard>=2.2.0->stable-baselines3[extra]) (3.7.0)\n",
      "Requirement already satisfied: pyasn1<0.5.0,>=0.4.6 in /user/HS227/rv00163/miniconda3/lib/python3.9/site-packages (from pyasn1-modules>=0.2.1->google-auth<3,>=1.6.3->tensorboard>=2.2.0->stable-baselines3[extra]) (0.4.8)\n",
      "Requirement already satisfied: oauthlib>=3.0.0 in /user/HS227/rv00163/miniconda3/lib/python3.9/site-packages (from requests-oauthlib>=0.7.0->google-auth-oauthlib<0.5,>=0.4.1->tensorboard>=2.2.0->stable-baselines3[extra]) (3.2.0)\n",
      "\u001b[33mWARNING: You are using pip version 22.0.4; however, version 22.1.2 is available.\n",
      "You should consider upgrading via the '/user/HS227/rv00163/miniconda3/bin/python -m pip install --upgrade pip' command.\u001b[0m\u001b[33m\n",
      "\u001b[0m"
     ]
    }
   ],
   "source": [
    "!pip install stable-baselines3[extra]"
   ]
  },
  {
   "cell_type": "code",
   "execution_count": null,
   "id": "52bc3f96",
   "metadata": {},
   "outputs": [],
   "source": []
  }
 ],
 "metadata": {
  "kernelspec": {
   "display_name": "Python 3 (ipykernel)",
   "language": "python",
   "name": "python3"
  },
  "language_info": {
   "codemirror_mode": {
    "name": "ipython",
    "version": 3
   },
   "file_extension": ".py",
   "mimetype": "text/x-python",
   "name": "python",
   "nbconvert_exporter": "python",
   "pygments_lexer": "ipython3",
   "version": "3.9.12"
  }
 },
 "nbformat": 4,
 "nbformat_minor": 5
}
